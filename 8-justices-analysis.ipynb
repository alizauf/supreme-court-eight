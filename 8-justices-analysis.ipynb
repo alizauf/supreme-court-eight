{
 "cells": [
  {
   "cell_type": "code",
   "execution_count": 1,
   "metadata": {
    "collapsed": false
   },
   "outputs": [],
   "source": [
    "import csv as csv\n",
    "import json\n",
    "import urllib\n",
    "import pandas as pd\n",
    "import numpy as np\n",
    "import re\n",
    "pd.set_option('display.max_rows', 100)"
   ]
  },
  {
   "cell_type": "markdown",
   "metadata": {},
   "source": [
    "## The data:\n",
    "1. **Cases from http://supremecourtdatabase.org/data.php**\n",
    "I used Justice-Centered Data: Cases Organized by Supreme Court Citation\n",
    "Includes cases from 1946 - 2014.\n",
    "\n",
    "2. **2015 Cases from https://api.oyez.org/cases/2015**\n",
    "This includes cases from this current term. Cases are given the year of their fall term.\n",
    "\n",
    "\n",
    "First I'll read in and ready the 1946 - 2014 database. Then I'll read in and ready the 2015 database and join them together."
   ]
  },
  {
   "cell_type": "markdown",
   "metadata": {},
   "source": [
    "### Supreme Court Database\n",
    "#### Reading in and filtering / grouping the data I need"
   ]
  },
  {
   "cell_type": "code",
   "execution_count": 2,
   "metadata": {
    "collapsed": true
   },
   "outputs": [],
   "source": [
    "#Reading in the Supreme Court Database\n",
    "#Each row reprsents a vote by a justice on a case\n",
    "raw_votes_46_14 = pd.read_csv('data/2015-03-all-cases.csv', header=0)"
   ]
  },
  {
   "cell_type": "code",
   "execution_count": 3,
   "metadata": {
    "collapsed": false
   },
   "outputs": [],
   "source": [
    "#creating a new column for year. \n",
    "#Case given the year of the fall half of the term. (So the 2014-2015 term is '2014')\n",
    "raw_votes_46_14['year'] = raw_votes_46_14['caseId'].apply(lambda a: int(re.search('(.*)-', a).group(1)))"
   ]
  },
  {
   "cell_type": "code",
   "execution_count": 4,
   "metadata": {
    "collapsed": true
   },
   "outputs": [],
   "source": [
    "#creating a column to keep track of whether a judge was recused. \n",
    "#If the judge is present but has no vote, they were recused or sick but still a member of the court\n",
    "raw_votes_46_14.loc[raw_votes_46_14['vote'].isnull(), 'recused'] = 1\n"
   ]
  },
  {
   "cell_type": "code",
   "execution_count": 5,
   "metadata": {
    "collapsed": false
   },
   "outputs": [
    {
     "data": {
      "text/html": [
       "<div>\n",
       "<table border=\"1\" class=\"dataframe\">\n",
       "  <thead>\n",
       "    <tr style=\"text-align: right;\">\n",
       "      <th></th>\n",
       "      <th>caseId</th>\n",
       "      <th>year</th>\n",
       "      <th>majVotes</th>\n",
       "      <th>minVotes</th>\n",
       "      <th>recused</th>\n",
       "    </tr>\n",
       "  </thead>\n",
       "  <tbody>\n",
       "    <tr>\n",
       "      <th>0</th>\n",
       "      <td>1946-001</td>\n",
       "      <td>1946</td>\n",
       "      <td>8</td>\n",
       "      <td>1</td>\n",
       "      <td>0.0</td>\n",
       "    </tr>\n",
       "    <tr>\n",
       "      <th>1</th>\n",
       "      <td>1946-001</td>\n",
       "      <td>1946</td>\n",
       "      <td>8</td>\n",
       "      <td>1</td>\n",
       "      <td>0.0</td>\n",
       "    </tr>\n",
       "    <tr>\n",
       "      <th>2</th>\n",
       "      <td>1946-001</td>\n",
       "      <td>1946</td>\n",
       "      <td>8</td>\n",
       "      <td>1</td>\n",
       "      <td>0.0</td>\n",
       "    </tr>\n",
       "    <tr>\n",
       "      <th>3</th>\n",
       "      <td>1946-001</td>\n",
       "      <td>1946</td>\n",
       "      <td>8</td>\n",
       "      <td>1</td>\n",
       "      <td>0.0</td>\n",
       "    </tr>\n",
       "    <tr>\n",
       "      <th>4</th>\n",
       "      <td>1946-001</td>\n",
       "      <td>1946</td>\n",
       "      <td>8</td>\n",
       "      <td>1</td>\n",
       "      <td>0.0</td>\n",
       "    </tr>\n",
       "  </tbody>\n",
       "</table>\n",
       "</div>"
      ],
      "text/plain": [
       "     caseId  year  majVotes  minVotes  recused\n",
       "0  1946-001  1946         8         1      0.0\n",
       "1  1946-001  1946         8         1      0.0\n",
       "2  1946-001  1946         8         1      0.0\n",
       "3  1946-001  1946         8         1      0.0\n",
       "4  1946-001  1946         8         1      0.0"
      ]
     },
     "execution_count": 5,
     "metadata": {},
     "output_type": "execute_result"
    }
   ],
   "source": [
    "#selecting columns I need, and turning NaNs in recused column to zeros\n",
    "filtered_votes_46_14 = raw_votes_46_14[['caseId', 'year', 'majVotes', 'minVotes', 'recused']].fillna(value=0)\n",
    "filtered_votes_46_14.head()"
   ]
  },
  {
   "cell_type": "code",
   "execution_count": 6,
   "metadata": {
    "collapsed": true
   },
   "outputs": [],
   "source": [
    "#grouping by case. counting number of recused justices, and number of justices who were on the court.\n",
    "cases_46_14 = filtered_votes_46_14.groupby(['caseId', 'year', 'majVotes', 'minVotes']).agg({'recused': np.sum, 'caseId': np.size}).add_suffix('_count').reset_index()\n",
    "cases_46_14.columns = ['caseId', 'year', 'majVotes', 'minVotes', 'num_recused_justices', 'num_justices_on_court']"
   ]
  },
  {
   "cell_type": "code",
   "execution_count": 7,
   "metadata": {
    "collapsed": false
   },
   "outputs": [
    {
     "data": {
      "text/html": [
       "<div>\n",
       "<table border=\"1\" class=\"dataframe\">\n",
       "  <thead>\n",
       "    <tr style=\"text-align: right;\">\n",
       "      <th></th>\n",
       "      <th>caseId</th>\n",
       "      <th>year</th>\n",
       "      <th>majVotes</th>\n",
       "      <th>minVotes</th>\n",
       "      <th>num_recused_justices</th>\n",
       "      <th>num_justices_on_court</th>\n",
       "      <th>even_split</th>\n",
       "      <th>unanimous</th>\n",
       "      <th>split_5_4</th>\n",
       "      <th>other_decision</th>\n",
       "    </tr>\n",
       "  </thead>\n",
       "  <tbody>\n",
       "    <tr>\n",
       "      <th>0</th>\n",
       "      <td>1946-001</td>\n",
       "      <td>1946</td>\n",
       "      <td>8</td>\n",
       "      <td>1</td>\n",
       "      <td>0.0</td>\n",
       "      <td>9</td>\n",
       "      <td>0.0</td>\n",
       "      <td>0.0</td>\n",
       "      <td>0.0</td>\n",
       "      <td>1.0</td>\n",
       "    </tr>\n",
       "    <tr>\n",
       "      <th>1</th>\n",
       "      <td>1946-002</td>\n",
       "      <td>1946</td>\n",
       "      <td>6</td>\n",
       "      <td>3</td>\n",
       "      <td>0.0</td>\n",
       "      <td>9</td>\n",
       "      <td>0.0</td>\n",
       "      <td>0.0</td>\n",
       "      <td>0.0</td>\n",
       "      <td>1.0</td>\n",
       "    </tr>\n",
       "    <tr>\n",
       "      <th>2</th>\n",
       "      <td>1946-003</td>\n",
       "      <td>1946</td>\n",
       "      <td>5</td>\n",
       "      <td>4</td>\n",
       "      <td>0.0</td>\n",
       "      <td>9</td>\n",
       "      <td>0.0</td>\n",
       "      <td>0.0</td>\n",
       "      <td>1.0</td>\n",
       "      <td>0.0</td>\n",
       "    </tr>\n",
       "    <tr>\n",
       "      <th>3</th>\n",
       "      <td>1946-004</td>\n",
       "      <td>1946</td>\n",
       "      <td>5</td>\n",
       "      <td>3</td>\n",
       "      <td>1.0</td>\n",
       "      <td>9</td>\n",
       "      <td>0.0</td>\n",
       "      <td>0.0</td>\n",
       "      <td>0.0</td>\n",
       "      <td>1.0</td>\n",
       "    </tr>\n",
       "    <tr>\n",
       "      <th>4</th>\n",
       "      <td>1946-005</td>\n",
       "      <td>1946</td>\n",
       "      <td>6</td>\n",
       "      <td>3</td>\n",
       "      <td>0.0</td>\n",
       "      <td>9</td>\n",
       "      <td>0.0</td>\n",
       "      <td>0.0</td>\n",
       "      <td>0.0</td>\n",
       "      <td>1.0</td>\n",
       "    </tr>\n",
       "  </tbody>\n",
       "</table>\n",
       "</div>"
      ],
      "text/plain": [
       "     caseId  year  majVotes  minVotes  num_recused_justices  \\\n",
       "0  1946-001  1946         8         1                   0.0   \n",
       "1  1946-002  1946         6         3                   0.0   \n",
       "2  1946-003  1946         5         4                   0.0   \n",
       "3  1946-004  1946         5         3                   1.0   \n",
       "4  1946-005  1946         6         3                   0.0   \n",
       "\n",
       "   num_justices_on_court  even_split  unanimous  split_5_4  other_decision  \n",
       "0                      9         0.0        0.0        0.0             1.0  \n",
       "1                      9         0.0        0.0        0.0             1.0  \n",
       "2                      9         0.0        0.0        1.0             0.0  \n",
       "3                      9         0.0        0.0        0.0             1.0  \n",
       "4                      9         0.0        0.0        0.0             1.0  "
      ]
     },
     "execution_count": 7,
     "metadata": {},
     "output_type": "execute_result"
    }
   ],
   "source": [
    "#creating categories for types of decisions I care about\n",
    "\n",
    "#even split (4-4 or 3-3)\n",
    "cases_46_14.loc[cases_46_14['majVotes'] == cases_46_14['minVotes'], 'even_split'] = 1\n",
    "\n",
    "#unanimous\n",
    "cases_46_14.loc[(cases_46_14['majVotes'] == 0) | (cases_46_14['minVotes'] == 0), 'unanimous'] = 1\n",
    "\n",
    "#5-4 split\n",
    "cases_46_14.loc[((cases_46_14['majVotes'] == 5) & (cases_46_14['minVotes'] == 4)) | ((cases_46_14['majVotes'] == 4) & (cases_46_14['minVotes'] == 5)), 'split_5_4'] = 1\n",
    "\n",
    "#replace NaNs\n",
    "cases_46_14 = cases_46_14.fillna(value=0)\n",
    "\n",
    "#other decision\n",
    "cases_46_14.loc[(cases_46_14['even_split'] + cases_46_14['unanimous'] + cases_46_14['split_5_4']) == 0 , 'other_decision'] = 1\n",
    "\n",
    "#replace NaNs\n",
    "cases_46_14 = cases_46_14.fillna(value=0)\n",
    "\n",
    "#sanity check. how's my data?\n",
    "cases_46_14.head()"
   ]
  },
  {
   "cell_type": "code",
   "execution_count": 8,
   "metadata": {
    "collapsed": true
   },
   "outputs": [],
   "source": [
    "filtered_cases_46_14 = cases_46_14[['caseId', 'year', 'even_split', 'unanimous', 'split_5_4', 'other_decision', 'num_recused_justices', 'num_justices_on_court',]]"
   ]
  },
  {
   "cell_type": "markdown",
   "metadata": {},
   "source": [
    "### Oyez API (2015 Cases)\n",
    "#### Reading in and filtering / grouping the data I need"
   ]
  },
  {
   "cell_type": "code",
   "execution_count": 9,
   "metadata": {
    "collapsed": true
   },
   "outputs": [],
   "source": [
    "#Oyez API\n",
    "#Reading in the JSON\n",
    "with open('data/2015-cases.json') as data_file:    \n",
    "    raw_case_list_2015 = json.load(data_file)"
   ]
  },
  {
   "cell_type": "code",
   "execution_count": 10,
   "metadata": {
    "collapsed": false
   },
   "outputs": [],
   "source": [
    "#pulling out the URLs of each case for this term\n",
    "cases_2015_urls = []\n",
    "for case in raw_case_list_2015:\n",
    "    cases_2015_urls.append(case['href'])"
   ]
  },
  {
   "cell_type": "code",
   "execution_count": 11,
   "metadata": {
    "collapsed": false
   },
   "outputs": [],
   "source": [
    "#Extracting the data I need from each case from this term\n",
    "filtered_cases = []\n",
    "for case_url in cases_2015_urls:\n",
    "    case_dict = {}\n",
    "    case = urllib.urlopen(case_url)\n",
    "    case_data = json.loads(case.read())\n",
    "    case_dict['ID'] = case_data['ID']\n",
    "    case_dict['name'] = case_data['name']\n",
    "    if case_data['decisions'] is None:\n",
    "        case_dict['decided'] = False\n",
    "    else:\n",
    "        case_dict['decided'] = True\n",
    "        case_dict['votes'] = []\n",
    "        case_dict['majority'] = 0\n",
    "        case_dict['minority'] = 0\n",
    "        case_dict['none'] = 0\n",
    "        case_dict['href'] = case_data['href']\n",
    "        case_dict['num_votes'] = 0\n",
    "        for a in case_data['decisions']:\n",
    "            case_dict['decision_type'] = a['decision_type']\n",
    "            for b in a['votes']:\n",
    "                case_dict['num_votes'] += 1\n",
    "                case_dict['votes'].append(b['vote'])\n",
    "                if b['vote'] == 'majority':\n",
    "                    case_dict['majority'] +=1\n",
    "                elif b['vote'] == 'minority':\n",
    "                    case_dict['minority'] +=1\n",
    "                elif b['vote'] == 'none':\n",
    "                    case_dict['none'] +=1\n",
    "                else:\n",
    "                    print \"there is another value and it is\"\n",
    "                    print b['vote']\n",
    "                    print 'and the case is ', case_data['name']\n",
    "    filtered_cases.append(case_dict)"
   ]
  },
  {
   "cell_type": "code",
   "execution_count": 12,
   "metadata": {
    "collapsed": false
   },
   "outputs": [
    {
     "name": "stdout",
     "output_type": "stream",
     "text": [
      "there have been 72 cases decided out of 79 so there are 7 to go\n"
     ]
    }
   ],
   "source": [
    "#Where are we at in the term. Making sure the data is up-to-date\n",
    "total_cases = len(filtered_cases)\n",
    "how_many_decided = 0\n",
    "for a in filtered_cases:\n",
    "    if a['decided'] is True:\n",
    "        how_many_decided +=1\n",
    "\n",
    "print \"there have been\", str(how_many_decided), \"cases decided out of\", str(total_cases), \"so there are\", str((total_cases - how_many_decided)), \"to go\" "
   ]
  },
  {
   "cell_type": "code",
   "execution_count": 13,
   "metadata": {
    "collapsed": false
   },
   "outputs": [
    {
     "data": {
      "text/html": [
       "<div>\n",
       "<table border=\"1\" class=\"dataframe\">\n",
       "  <thead>\n",
       "    <tr style=\"text-align: right;\">\n",
       "      <th></th>\n",
       "      <th>ID</th>\n",
       "      <th>decided</th>\n",
       "      <th>decision_type</th>\n",
       "      <th>href</th>\n",
       "      <th>majority</th>\n",
       "      <th>minority</th>\n",
       "      <th>name</th>\n",
       "      <th>none</th>\n",
       "      <th>num_votes</th>\n",
       "      <th>votes</th>\n",
       "    </tr>\n",
       "  </thead>\n",
       "  <tbody>\n",
       "    <tr>\n",
       "      <th>0</th>\n",
       "      <td>56176</td>\n",
       "      <td>True</td>\n",
       "      <td>majority opinion</td>\n",
       "      <td>https://api.oyez.org/cases/2015/14-7505</td>\n",
       "      <td>8.0</td>\n",
       "      <td>1.0</td>\n",
       "      <td>Hurst v. Florida</td>\n",
       "      <td>0.0</td>\n",
       "      <td>9.0</td>\n",
       "      <td>[majority, majority, majority, majority, major...</td>\n",
       "    </tr>\n",
       "    <tr>\n",
       "      <th>1</th>\n",
       "      <td>56177</td>\n",
       "      <td>True</td>\n",
       "      <td>majority opinion</td>\n",
       "      <td>https://api.oyez.org/cases/2015/14-280</td>\n",
       "      <td>6.0</td>\n",
       "      <td>3.0</td>\n",
       "      <td>Montgomery v. Louisiana</td>\n",
       "      <td>0.0</td>\n",
       "      <td>9.0</td>\n",
       "      <td>[majority, majority, majority, majority, major...</td>\n",
       "    </tr>\n",
       "    <tr>\n",
       "      <th>2</th>\n",
       "      <td>56178</td>\n",
       "      <td>True</td>\n",
       "      <td>majority opinion</td>\n",
       "      <td>https://api.oyez.org/cases/2015/14-462</td>\n",
       "      <td>6.0</td>\n",
       "      <td>3.0</td>\n",
       "      <td>DIRECTV, Inc. v. Imburgia</td>\n",
       "      <td>0.0</td>\n",
       "      <td>9.0</td>\n",
       "      <td>[majority, majority, majority, majority, major...</td>\n",
       "    </tr>\n",
       "    <tr>\n",
       "      <th>3</th>\n",
       "      <td>56180</td>\n",
       "      <td>True</td>\n",
       "      <td>majority opinion</td>\n",
       "      <td>https://api.oyez.org/cases/2015/14-723</td>\n",
       "      <td>8.0</td>\n",
       "      <td>1.0</td>\n",
       "      <td>Montanile v. Board of Trustees of the National...</td>\n",
       "      <td>0.0</td>\n",
       "      <td>9.0</td>\n",
       "      <td>[majority, majority, majority, majority, major...</td>\n",
       "    </tr>\n",
       "    <tr>\n",
       "      <th>4</th>\n",
       "      <td>56181</td>\n",
       "      <td>True</td>\n",
       "      <td>majority opinion</td>\n",
       "      <td>https://api.oyez.org/cases/2015/14-449</td>\n",
       "      <td>16.0</td>\n",
       "      <td>2.0</td>\n",
       "      <td>Kansas v. Carr</td>\n",
       "      <td>0.0</td>\n",
       "      <td>18.0</td>\n",
       "      <td>[majority, majority, majority, majority, major...</td>\n",
       "    </tr>\n",
       "  </tbody>\n",
       "</table>\n",
       "</div>"
      ],
      "text/plain": [
       "      ID decided     decision_type                                     href  \\\n",
       "0  56176    True  majority opinion  https://api.oyez.org/cases/2015/14-7505   \n",
       "1  56177    True  majority opinion   https://api.oyez.org/cases/2015/14-280   \n",
       "2  56178    True  majority opinion   https://api.oyez.org/cases/2015/14-462   \n",
       "3  56180    True  majority opinion   https://api.oyez.org/cases/2015/14-723   \n",
       "4  56181    True  majority opinion   https://api.oyez.org/cases/2015/14-449   \n",
       "\n",
       "   majority  minority                                               name  \\\n",
       "0       8.0       1.0                                   Hurst v. Florida   \n",
       "1       6.0       3.0                            Montgomery v. Louisiana   \n",
       "2       6.0       3.0                          DIRECTV, Inc. v. Imburgia   \n",
       "3       8.0       1.0  Montanile v. Board of Trustees of the National...   \n",
       "4      16.0       2.0                                     Kansas v. Carr   \n",
       "\n",
       "   none  num_votes                                              votes  \n",
       "0   0.0        9.0  [majority, majority, majority, majority, major...  \n",
       "1   0.0        9.0  [majority, majority, majority, majority, major...  \n",
       "2   0.0        9.0  [majority, majority, majority, majority, major...  \n",
       "3   0.0        9.0  [majority, majority, majority, majority, major...  \n",
       "4   0.0       18.0  [majority, majority, majority, majority, major...  "
      ]
     },
     "execution_count": 13,
     "metadata": {},
     "output_type": "execute_result"
    }
   ],
   "source": [
    "#getting data from JSON into Pandas\n",
    "pd_2015_all_cases = pd.io.json.json_normalize(filtered_cases)\n",
    "pd_2015_all_cases.head()"
   ]
  },
  {
   "cell_type": "code",
   "execution_count": 14,
   "metadata": {
    "collapsed": false
   },
   "outputs": [],
   "source": [
    "#updating cases that are not yet considered decided by Oyez, but were decided morning of 6-23\n",
    "#fisher 4-3 majority\n",
    "pd_2015_all_cases.loc[pd_2015_all_cases['ID'] == 62309, 'decided'] = True\n",
    "pd_2015_all_cases.loc[pd_2015_all_cases['ID'] == 62309, 'decision_type'] = 'majority opinion'\n",
    "#dollar store 4-4\n",
    "pd_2015_all_cases.loc[pd_2015_all_cases['ID'] == 62306, 'decided'] = True\n",
    "pd_2015_all_cases.loc[pd_2015_all_cases['ID'] == 62306, 'decision_type'] = 'equally divided'\n",
    "#us v texas 4-4\n",
    "pd_2015_all_cases.loc[pd_2015_all_cases['ID'] == 62654, 'decided'] = True\n",
    "pd_2015_all_cases.loc[pd_2015_all_cases['ID'] == 62654, 'decision_type'] = 'equally divided'\n",
    "#birchfield 5-3\n",
    "pd_2015_all_cases.loc[pd_2015_all_cases['ID'] == 62638, 'decided'] = True\n",
    "pd_2015_all_cases.loc[pd_2015_all_cases['ID'] == 62638, 'decision_type'] = 'majority opinion'\n",
    "\n"
   ]
  },
  {
   "cell_type": "code",
   "execution_count": 15,
   "metadata": {
    "collapsed": false
   },
   "outputs": [],
   "source": [
    "#Just using cases decided so far this year\n",
    "decided_2015_cases = pd_2015_all_cases[pd_2015_all_cases['decided'] == True]\n"
   ]
  },
  {
   "cell_type": "code",
   "execution_count": 16,
   "metadata": {
    "collapsed": false
   },
   "outputs": [
    {
     "name": "stderr",
     "output_type": "stream",
     "text": [
      "//anaconda/lib/python2.7/site-packages/pandas/core/indexing.py:284: SettingWithCopyWarning: \n",
      "A value is trying to be set on a copy of a slice from a DataFrame.\n",
      "Try using .loc[row_indexer,col_indexer] = value instead\n",
      "\n",
      "See the caveats in the documentation: http://pandas.pydata.org/pandas-docs/stable/indexing.html#indexing-view-versus-copy\n",
      "  self.obj[key] = _infer_fill_value(value)\n",
      "//anaconda/lib/python2.7/site-packages/pandas/core/indexing.py:461: SettingWithCopyWarning: \n",
      "A value is trying to be set on a copy of a slice from a DataFrame.\n",
      "Try using .loc[row_indexer,col_indexer] = value instead\n",
      "\n",
      "See the caveats in the documentation: http://pandas.pydata.org/pandas-docs/stable/indexing.html#indexing-view-versus-copy\n",
      "  self.obj[item] = s\n"
     ]
    },
    {
     "data": {
      "text/html": [
       "<div>\n",
       "<table border=\"1\" class=\"dataframe\">\n",
       "  <thead>\n",
       "    <tr style=\"text-align: right;\">\n",
       "      <th></th>\n",
       "      <th>ID</th>\n",
       "      <th>decided</th>\n",
       "      <th>decision_type</th>\n",
       "      <th>href</th>\n",
       "      <th>majority</th>\n",
       "      <th>minority</th>\n",
       "      <th>name</th>\n",
       "      <th>none</th>\n",
       "      <th>num_votes</th>\n",
       "      <th>votes</th>\n",
       "      <th>year</th>\n",
       "    </tr>\n",
       "  </thead>\n",
       "  <tbody>\n",
       "    <tr>\n",
       "      <th>0</th>\n",
       "      <td>56176</td>\n",
       "      <td>True</td>\n",
       "      <td>majority opinion</td>\n",
       "      <td>https://api.oyez.org/cases/2015/14-7505</td>\n",
       "      <td>8.0</td>\n",
       "      <td>1.0</td>\n",
       "      <td>Hurst v. Florida</td>\n",
       "      <td>0.0</td>\n",
       "      <td>9.0</td>\n",
       "      <td>[majority, majority, majority, majority, major...</td>\n",
       "      <td>2015.0</td>\n",
       "    </tr>\n",
       "    <tr>\n",
       "      <th>1</th>\n",
       "      <td>56177</td>\n",
       "      <td>True</td>\n",
       "      <td>majority opinion</td>\n",
       "      <td>https://api.oyez.org/cases/2015/14-280</td>\n",
       "      <td>6.0</td>\n",
       "      <td>3.0</td>\n",
       "      <td>Montgomery v. Louisiana</td>\n",
       "      <td>0.0</td>\n",
       "      <td>9.0</td>\n",
       "      <td>[majority, majority, majority, majority, major...</td>\n",
       "      <td>2015.0</td>\n",
       "    </tr>\n",
       "    <tr>\n",
       "      <th>2</th>\n",
       "      <td>56178</td>\n",
       "      <td>True</td>\n",
       "      <td>majority opinion</td>\n",
       "      <td>https://api.oyez.org/cases/2015/14-462</td>\n",
       "      <td>6.0</td>\n",
       "      <td>3.0</td>\n",
       "      <td>DIRECTV, Inc. v. Imburgia</td>\n",
       "      <td>0.0</td>\n",
       "      <td>9.0</td>\n",
       "      <td>[majority, majority, majority, majority, major...</td>\n",
       "      <td>2015.0</td>\n",
       "    </tr>\n",
       "    <tr>\n",
       "      <th>3</th>\n",
       "      <td>56180</td>\n",
       "      <td>True</td>\n",
       "      <td>majority opinion</td>\n",
       "      <td>https://api.oyez.org/cases/2015/14-723</td>\n",
       "      <td>8.0</td>\n",
       "      <td>1.0</td>\n",
       "      <td>Montanile v. Board of Trustees of the National...</td>\n",
       "      <td>0.0</td>\n",
       "      <td>9.0</td>\n",
       "      <td>[majority, majority, majority, majority, major...</td>\n",
       "      <td>2015.0</td>\n",
       "    </tr>\n",
       "    <tr>\n",
       "      <th>4</th>\n",
       "      <td>56181</td>\n",
       "      <td>True</td>\n",
       "      <td>majority opinion</td>\n",
       "      <td>https://api.oyez.org/cases/2015/14-449</td>\n",
       "      <td>16.0</td>\n",
       "      <td>2.0</td>\n",
       "      <td>Kansas v. Carr</td>\n",
       "      <td>0.0</td>\n",
       "      <td>18.0</td>\n",
       "      <td>[majority, majority, majority, majority, major...</td>\n",
       "      <td>2015.0</td>\n",
       "    </tr>\n",
       "  </tbody>\n",
       "</table>\n",
       "</div>"
      ],
      "text/plain": [
       "      ID decided     decision_type                                     href  \\\n",
       "0  56176    True  majority opinion  https://api.oyez.org/cases/2015/14-7505   \n",
       "1  56177    True  majority opinion   https://api.oyez.org/cases/2015/14-280   \n",
       "2  56178    True  majority opinion   https://api.oyez.org/cases/2015/14-462   \n",
       "3  56180    True  majority opinion   https://api.oyez.org/cases/2015/14-723   \n",
       "4  56181    True  majority opinion   https://api.oyez.org/cases/2015/14-449   \n",
       "\n",
       "   majority  minority                                               name  \\\n",
       "0       8.0       1.0                                   Hurst v. Florida   \n",
       "1       6.0       3.0                            Montgomery v. Louisiana   \n",
       "2       6.0       3.0                          DIRECTV, Inc. v. Imburgia   \n",
       "3       8.0       1.0  Montanile v. Board of Trustees of the National...   \n",
       "4      16.0       2.0                                     Kansas v. Carr   \n",
       "\n",
       "   none  num_votes                                              votes    year  \n",
       "0   0.0        9.0  [majority, majority, majority, majority, major...  2015.0  \n",
       "1   0.0        9.0  [majority, majority, majority, majority, major...  2015.0  \n",
       "2   0.0        9.0  [majority, majority, majority, majority, major...  2015.0  \n",
       "3   0.0        9.0  [majority, majority, majority, majority, major...  2015.0  \n",
       "4   0.0       18.0  [majority, majority, majority, majority, major...  2015.0  "
      ]
     },
     "execution_count": 16,
     "metadata": {},
     "output_type": "execute_result"
    }
   ],
   "source": [
    "#Adding useful columns\n",
    "decided_2015_cases.loc[decided_2015_cases['decided'] == True, 'year'] = 2015\n",
    "decided_2015_cases.head()\n"
   ]
  },
  {
   "cell_type": "code",
   "execution_count": 17,
   "metadata": {
    "collapsed": false
   },
   "outputs": [],
   "source": [
    "#recusal--done manually. must update for future cases\n",
    "decided_2015_cases.loc[decided_2015_cases['ID'] == 62308, 'num_recused_justices'] = 1\n",
    "decided_2015_cases.loc[decided_2015_cases['ID'] == 62632, 'num_recused_justices'] = 1\n",
    "decided_2015_cases.loc[decided_2015_cases['ID'] == 62309, 'num_recused_justices'] = 1\n",
    "\n",
    "\n",
    "#num justices on the court\n",
    "decided_2015_cases.loc[decided_2015_cases['num_votes'] % 9 == 0, 'num_justices_on_court'] = 9\n",
    "decided_2015_cases.loc[decided_2015_cases['num_votes'] % 8 == 0, 'num_justices_on_court'] = 8\n",
    "\n",
    "#evenly split cases\n",
    "decided_2015_cases.loc[(decided_2015_cases['decision_type'] == 'equally divided'), 'even_split'] = 1\n",
    "\n",
    "#unanimous\n",
    "#this is more confusing than the previous dataset, as per curium opinions are considered unanimous but not represented as such\n",
    "decided_2015_cases.loc[(decided_2015_cases['decision_type'] == 'per curiam') | ((decided_2015_cases['majority'] == 0) & (decided_2015_cases['minority'] == decided_2015_cases['num_votes'])) | ((decided_2015_cases['minority'] == 0) & (decided_2015_cases['majority'] == decided_2015_cases['num_votes'])) | ((decided_2015_cases['majority'] + decided_2015_cases['minority']) == 1), 'unanimous'] = 1\n",
    "\n",
    "#no 5-4s this year\n",
    "decided_2015_cases.loc[decided_2015_cases['decided'] == True, 'split_5_4'] = 0\n",
    "\n",
    "\n",
    "#replace NaNs\n",
    "decided_2015_cases = decided_2015_cases.fillna(value=0)\n",
    "\n",
    "#other decision\n",
    "decided_2015_cases.loc[(decided_2015_cases['even_split'] + decided_2015_cases['unanimous']) == 0 , 'other_decision'] = 1\n",
    "\n",
    "#replace NaNs\n",
    "decided_2015_cases = decided_2015_cases.fillna(value=0)\n",
    "\n",
    "\n",
    "\n",
    "\n"
   ]
  },
  {
   "cell_type": "code",
   "execution_count": 18,
   "metadata": {
    "collapsed": false
   },
   "outputs": [],
   "source": [
    "filtered_2015_cases = decided_2015_cases[['ID', 'year', 'even_split', 'unanimous', 'split_5_4', 'other_decision', 'num_recused_justices', 'num_justices_on_court' ]]"
   ]
  },
  {
   "cell_type": "code",
   "execution_count": 19,
   "metadata": {
    "collapsed": false
   },
   "outputs": [
    {
     "data": {
      "text/html": [
       "<div>\n",
       "<table border=\"1\" class=\"dataframe\">\n",
       "  <thead>\n",
       "    <tr style=\"text-align: right;\">\n",
       "      <th></th>\n",
       "      <th>ID</th>\n",
       "      <th>year</th>\n",
       "      <th>even_split</th>\n",
       "      <th>unanimous</th>\n",
       "      <th>split_5_4</th>\n",
       "      <th>other_decision</th>\n",
       "      <th>num_recused_justices</th>\n",
       "      <th>num_justices_on_court</th>\n",
       "    </tr>\n",
       "  </thead>\n",
       "  <tbody>\n",
       "    <tr>\n",
       "      <th>0</th>\n",
       "      <td>56176</td>\n",
       "      <td>2015.0</td>\n",
       "      <td>0.0</td>\n",
       "      <td>0.0</td>\n",
       "      <td>0.0</td>\n",
       "      <td>1.0</td>\n",
       "      <td>0.0</td>\n",
       "      <td>9.0</td>\n",
       "    </tr>\n",
       "    <tr>\n",
       "      <th>1</th>\n",
       "      <td>56177</td>\n",
       "      <td>2015.0</td>\n",
       "      <td>0.0</td>\n",
       "      <td>0.0</td>\n",
       "      <td>0.0</td>\n",
       "      <td>1.0</td>\n",
       "      <td>0.0</td>\n",
       "      <td>9.0</td>\n",
       "    </tr>\n",
       "    <tr>\n",
       "      <th>2</th>\n",
       "      <td>56178</td>\n",
       "      <td>2015.0</td>\n",
       "      <td>0.0</td>\n",
       "      <td>0.0</td>\n",
       "      <td>0.0</td>\n",
       "      <td>1.0</td>\n",
       "      <td>0.0</td>\n",
       "      <td>9.0</td>\n",
       "    </tr>\n",
       "    <tr>\n",
       "      <th>3</th>\n",
       "      <td>56180</td>\n",
       "      <td>2015.0</td>\n",
       "      <td>0.0</td>\n",
       "      <td>0.0</td>\n",
       "      <td>0.0</td>\n",
       "      <td>1.0</td>\n",
       "      <td>0.0</td>\n",
       "      <td>9.0</td>\n",
       "    </tr>\n",
       "    <tr>\n",
       "      <th>4</th>\n",
       "      <td>56181</td>\n",
       "      <td>2015.0</td>\n",
       "      <td>0.0</td>\n",
       "      <td>0.0</td>\n",
       "      <td>0.0</td>\n",
       "      <td>1.0</td>\n",
       "      <td>0.0</td>\n",
       "      <td>9.0</td>\n",
       "    </tr>\n",
       "  </tbody>\n",
       "</table>\n",
       "</div>"
      ],
      "text/plain": [
       "      ID    year  even_split  unanimous  split_5_4  other_decision  \\\n",
       "0  56176  2015.0         0.0        0.0        0.0             1.0   \n",
       "1  56177  2015.0         0.0        0.0        0.0             1.0   \n",
       "2  56178  2015.0         0.0        0.0        0.0             1.0   \n",
       "3  56180  2015.0         0.0        0.0        0.0             1.0   \n",
       "4  56181  2015.0         0.0        0.0        0.0             1.0   \n",
       "\n",
       "   num_recused_justices  num_justices_on_court  \n",
       "0                   0.0                    9.0  \n",
       "1                   0.0                    9.0  \n",
       "2                   0.0                    9.0  \n",
       "3                   0.0                    9.0  \n",
       "4                   0.0                    9.0  "
      ]
     },
     "execution_count": 19,
     "metadata": {},
     "output_type": "execute_result"
    }
   ],
   "source": [
    "filtered_2015_cases.head()"
   ]
  },
  {
   "cell_type": "code",
   "execution_count": 20,
   "metadata": {
    "collapsed": false
   },
   "outputs": [],
   "source": [
    "filtered_2015_cases.columns = ['caseId', 'year', 'even_split', 'unanimous', 'split_5_4', 'other_decision', 'num_recused_justices', 'num_justices_on_court']"
   ]
  },
  {
   "cell_type": "markdown",
   "metadata": {},
   "source": [
    "## Concatentating the two dataframes"
   ]
  },
  {
   "cell_type": "code",
   "execution_count": 21,
   "metadata": {
    "collapsed": false
   },
   "outputs": [],
   "source": [
    "filtered_cases_46_14 = filtered_cases_46_14.set_index('caseId')"
   ]
  },
  {
   "cell_type": "code",
   "execution_count": 22,
   "metadata": {
    "collapsed": false
   },
   "outputs": [],
   "source": [
    "filtered_2015_cases = filtered_2015_cases.set_index('caseId')"
   ]
  },
  {
   "cell_type": "code",
   "execution_count": 23,
   "metadata": {
    "collapsed": false
   },
   "outputs": [],
   "source": [
    "all_cases = pd.concat([filtered_cases_46_14, filtered_2015_cases])"
   ]
  },
  {
   "cell_type": "code",
   "execution_count": 24,
   "metadata": {
    "collapsed": false
   },
   "outputs": [
    {
     "data": {
      "text/html": [
       "<div>\n",
       "<table border=\"1\" class=\"dataframe\">\n",
       "  <thead>\n",
       "    <tr style=\"text-align: right;\">\n",
       "      <th></th>\n",
       "      <th>year</th>\n",
       "      <th>even_split</th>\n",
       "      <th>unanimous</th>\n",
       "      <th>split_5_4</th>\n",
       "      <th>other_decision</th>\n",
       "      <th>num_recused_justices</th>\n",
       "      <th>num_justices_on_court</th>\n",
       "    </tr>\n",
       "    <tr>\n",
       "      <th>caseId</th>\n",
       "      <th></th>\n",
       "      <th></th>\n",
       "      <th></th>\n",
       "      <th></th>\n",
       "      <th></th>\n",
       "      <th></th>\n",
       "      <th></th>\n",
       "    </tr>\n",
       "  </thead>\n",
       "  <tbody>\n",
       "    <tr>\n",
       "      <th>1946-001</th>\n",
       "      <td>1946.0</td>\n",
       "      <td>0.0</td>\n",
       "      <td>0.0</td>\n",
       "      <td>0.0</td>\n",
       "      <td>1.0</td>\n",
       "      <td>0.0</td>\n",
       "      <td>9.0</td>\n",
       "    </tr>\n",
       "    <tr>\n",
       "      <th>1946-002</th>\n",
       "      <td>1946.0</td>\n",
       "      <td>0.0</td>\n",
       "      <td>0.0</td>\n",
       "      <td>0.0</td>\n",
       "      <td>1.0</td>\n",
       "      <td>0.0</td>\n",
       "      <td>9.0</td>\n",
       "    </tr>\n",
       "    <tr>\n",
       "      <th>1946-003</th>\n",
       "      <td>1946.0</td>\n",
       "      <td>0.0</td>\n",
       "      <td>0.0</td>\n",
       "      <td>1.0</td>\n",
       "      <td>0.0</td>\n",
       "      <td>0.0</td>\n",
       "      <td>9.0</td>\n",
       "    </tr>\n",
       "    <tr>\n",
       "      <th>1946-004</th>\n",
       "      <td>1946.0</td>\n",
       "      <td>0.0</td>\n",
       "      <td>0.0</td>\n",
       "      <td>0.0</td>\n",
       "      <td>1.0</td>\n",
       "      <td>1.0</td>\n",
       "      <td>9.0</td>\n",
       "    </tr>\n",
       "    <tr>\n",
       "      <th>1946-005</th>\n",
       "      <td>1946.0</td>\n",
       "      <td>0.0</td>\n",
       "      <td>0.0</td>\n",
       "      <td>0.0</td>\n",
       "      <td>1.0</td>\n",
       "      <td>0.0</td>\n",
       "      <td>9.0</td>\n",
       "    </tr>\n",
       "    <tr>\n",
       "      <th>1946-006</th>\n",
       "      <td>1946.0</td>\n",
       "      <td>0.0</td>\n",
       "      <td>0.0</td>\n",
       "      <td>0.0</td>\n",
       "      <td>1.0</td>\n",
       "      <td>1.0</td>\n",
       "      <td>9.0</td>\n",
       "    </tr>\n",
       "    <tr>\n",
       "      <th>1946-007</th>\n",
       "      <td>1946.0</td>\n",
       "      <td>0.0</td>\n",
       "      <td>1.0</td>\n",
       "      <td>0.0</td>\n",
       "      <td>0.0</td>\n",
       "      <td>3.0</td>\n",
       "      <td>9.0</td>\n",
       "    </tr>\n",
       "    <tr>\n",
       "      <th>1946-008</th>\n",
       "      <td>1946.0</td>\n",
       "      <td>0.0</td>\n",
       "      <td>1.0</td>\n",
       "      <td>0.0</td>\n",
       "      <td>0.0</td>\n",
       "      <td>0.0</td>\n",
       "      <td>9.0</td>\n",
       "    </tr>\n",
       "    <tr>\n",
       "      <th>1946-009</th>\n",
       "      <td>1946.0</td>\n",
       "      <td>0.0</td>\n",
       "      <td>1.0</td>\n",
       "      <td>0.0</td>\n",
       "      <td>0.0</td>\n",
       "      <td>0.0</td>\n",
       "      <td>9.0</td>\n",
       "    </tr>\n",
       "    <tr>\n",
       "      <th>1946-010</th>\n",
       "      <td>1946.0</td>\n",
       "      <td>0.0</td>\n",
       "      <td>1.0</td>\n",
       "      <td>0.0</td>\n",
       "      <td>0.0</td>\n",
       "      <td>1.0</td>\n",
       "      <td>9.0</td>\n",
       "    </tr>\n",
       "  </tbody>\n",
       "</table>\n",
       "</div>"
      ],
      "text/plain": [
       "            year  even_split  unanimous  split_5_4  other_decision  \\\n",
       "caseId                                                               \n",
       "1946-001  1946.0         0.0        0.0        0.0             1.0   \n",
       "1946-002  1946.0         0.0        0.0        0.0             1.0   \n",
       "1946-003  1946.0         0.0        0.0        1.0             0.0   \n",
       "1946-004  1946.0         0.0        0.0        0.0             1.0   \n",
       "1946-005  1946.0         0.0        0.0        0.0             1.0   \n",
       "1946-006  1946.0         0.0        0.0        0.0             1.0   \n",
       "1946-007  1946.0         0.0        1.0        0.0             0.0   \n",
       "1946-008  1946.0         0.0        1.0        0.0             0.0   \n",
       "1946-009  1946.0         0.0        1.0        0.0             0.0   \n",
       "1946-010  1946.0         0.0        1.0        0.0             0.0   \n",
       "\n",
       "          num_recused_justices  num_justices_on_court  \n",
       "caseId                                                 \n",
       "1946-001                   0.0                    9.0  \n",
       "1946-002                   0.0                    9.0  \n",
       "1946-003                   0.0                    9.0  \n",
       "1946-004                   1.0                    9.0  \n",
       "1946-005                   0.0                    9.0  \n",
       "1946-006                   1.0                    9.0  \n",
       "1946-007                   3.0                    9.0  \n",
       "1946-008                   0.0                    9.0  \n",
       "1946-009                   0.0                    9.0  \n",
       "1946-010                   1.0                    9.0  "
      ]
     },
     "execution_count": 24,
     "metadata": {},
     "output_type": "execute_result"
    }
   ],
   "source": [
    "all_cases.head(10)"
   ]
  },
  {
   "cell_type": "code",
   "execution_count": 25,
   "metadata": {
    "collapsed": false
   },
   "outputs": [
    {
     "data": {
      "text/html": [
       "<div>\n",
       "<table border=\"1\" class=\"dataframe\">\n",
       "  <thead>\n",
       "    <tr style=\"text-align: right;\">\n",
       "      <th></th>\n",
       "      <th>year</th>\n",
       "      <th>even_split</th>\n",
       "      <th>unanimous</th>\n",
       "      <th>split_5_4</th>\n",
       "      <th>other_decision</th>\n",
       "      <th>num_recused_justices</th>\n",
       "      <th>num_justices_on_court</th>\n",
       "    </tr>\n",
       "    <tr>\n",
       "      <th>caseId</th>\n",
       "      <th></th>\n",
       "      <th></th>\n",
       "      <th></th>\n",
       "      <th></th>\n",
       "      <th></th>\n",
       "      <th></th>\n",
       "      <th></th>\n",
       "    </tr>\n",
       "  </thead>\n",
       "  <tbody>\n",
       "    <tr>\n",
       "      <th>62654</th>\n",
       "      <td>2015.0</td>\n",
       "      <td>1.0</td>\n",
       "      <td>0.0</td>\n",
       "      <td>0.0</td>\n",
       "      <td>0.0</td>\n",
       "      <td>0.0</td>\n",
       "      <td>8.0</td>\n",
       "    </tr>\n",
       "    <tr>\n",
       "      <th>62656</th>\n",
       "      <td>2015.0</td>\n",
       "      <td>0.0</td>\n",
       "      <td>0.0</td>\n",
       "      <td>0.0</td>\n",
       "      <td>1.0</td>\n",
       "      <td>0.0</td>\n",
       "      <td>8.0</td>\n",
       "    </tr>\n",
       "    <tr>\n",
       "      <th>62657</th>\n",
       "      <td>2015.0</td>\n",
       "      <td>0.0</td>\n",
       "      <td>1.0</td>\n",
       "      <td>0.0</td>\n",
       "      <td>0.0</td>\n",
       "      <td>0.0</td>\n",
       "      <td>8.0</td>\n",
       "    </tr>\n",
       "    <tr>\n",
       "      <th>62660</th>\n",
       "      <td>2015.0</td>\n",
       "      <td>0.0</td>\n",
       "      <td>0.0</td>\n",
       "      <td>0.0</td>\n",
       "      <td>1.0</td>\n",
       "      <td>0.0</td>\n",
       "      <td>8.0</td>\n",
       "    </tr>\n",
       "    <tr>\n",
       "      <th>62662</th>\n",
       "      <td>2015.0</td>\n",
       "      <td>0.0</td>\n",
       "      <td>1.0</td>\n",
       "      <td>0.0</td>\n",
       "      <td>0.0</td>\n",
       "      <td>0.0</td>\n",
       "      <td>9.0</td>\n",
       "    </tr>\n",
       "    <tr>\n",
       "      <th>62664</th>\n",
       "      <td>2015.0</td>\n",
       "      <td>0.0</td>\n",
       "      <td>0.0</td>\n",
       "      <td>0.0</td>\n",
       "      <td>1.0</td>\n",
       "      <td>0.0</td>\n",
       "      <td>8.0</td>\n",
       "    </tr>\n",
       "    <tr>\n",
       "      <th>62675</th>\n",
       "      <td>2015.0</td>\n",
       "      <td>0.0</td>\n",
       "      <td>1.0</td>\n",
       "      <td>0.0</td>\n",
       "      <td>0.0</td>\n",
       "      <td>0.0</td>\n",
       "      <td>8.0</td>\n",
       "    </tr>\n",
       "    <tr>\n",
       "      <th>62676</th>\n",
       "      <td>2015.0</td>\n",
       "      <td>0.0</td>\n",
       "      <td>1.0</td>\n",
       "      <td>0.0</td>\n",
       "      <td>0.0</td>\n",
       "      <td>0.0</td>\n",
       "      <td>8.0</td>\n",
       "    </tr>\n",
       "    <tr>\n",
       "      <th>62691</th>\n",
       "      <td>2015.0</td>\n",
       "      <td>0.0</td>\n",
       "      <td>1.0</td>\n",
       "      <td>0.0</td>\n",
       "      <td>0.0</td>\n",
       "      <td>0.0</td>\n",
       "      <td>8.0</td>\n",
       "    </tr>\n",
       "    <tr>\n",
       "      <th>62695</th>\n",
       "      <td>2015.0</td>\n",
       "      <td>0.0</td>\n",
       "      <td>1.0</td>\n",
       "      <td>0.0</td>\n",
       "      <td>0.0</td>\n",
       "      <td>0.0</td>\n",
       "      <td>8.0</td>\n",
       "    </tr>\n",
       "  </tbody>\n",
       "</table>\n",
       "</div>"
      ],
      "text/plain": [
       "          year  even_split  unanimous  split_5_4  other_decision  \\\n",
       "caseId                                                             \n",
       "62654   2015.0         1.0        0.0        0.0             0.0   \n",
       "62656   2015.0         0.0        0.0        0.0             1.0   \n",
       "62657   2015.0         0.0        1.0        0.0             0.0   \n",
       "62660   2015.0         0.0        0.0        0.0             1.0   \n",
       "62662   2015.0         0.0        1.0        0.0             0.0   \n",
       "62664   2015.0         0.0        0.0        0.0             1.0   \n",
       "62675   2015.0         0.0        1.0        0.0             0.0   \n",
       "62676   2015.0         0.0        1.0        0.0             0.0   \n",
       "62691   2015.0         0.0        1.0        0.0             0.0   \n",
       "62695   2015.0         0.0        1.0        0.0             0.0   \n",
       "\n",
       "        num_recused_justices  num_justices_on_court  \n",
       "caseId                                               \n",
       "62654                    0.0                    8.0  \n",
       "62656                    0.0                    8.0  \n",
       "62657                    0.0                    8.0  \n",
       "62660                    0.0                    8.0  \n",
       "62662                    0.0                    9.0  \n",
       "62664                    0.0                    8.0  \n",
       "62675                    0.0                    8.0  \n",
       "62676                    0.0                    8.0  \n",
       "62691                    0.0                    8.0  \n",
       "62695                    0.0                    8.0  "
      ]
     },
     "execution_count": 25,
     "metadata": {},
     "output_type": "execute_result"
    }
   ],
   "source": [
    "all_cases.tail(10)"
   ]
  },
  {
   "cell_type": "code",
   "execution_count": 26,
   "metadata": {
    "collapsed": false
   },
   "outputs": [
    {
     "data": {
      "text/html": [
       "<div>\n",
       "<table border=\"1\" class=\"dataframe\">\n",
       "  <thead>\n",
       "    <tr style=\"text-align: right;\">\n",
       "      <th></th>\n",
       "      <th>year</th>\n",
       "      <th>even_split</th>\n",
       "      <th>unanimous</th>\n",
       "      <th>split_5_4</th>\n",
       "      <th>other_decision</th>\n",
       "      <th>num_recused_justices</th>\n",
       "      <th>num_justices_on_court</th>\n",
       "      <th>num_justices_decided_case</th>\n",
       "    </tr>\n",
       "    <tr>\n",
       "      <th>caseId</th>\n",
       "      <th></th>\n",
       "      <th></th>\n",
       "      <th></th>\n",
       "      <th></th>\n",
       "      <th></th>\n",
       "      <th></th>\n",
       "      <th></th>\n",
       "      <th></th>\n",
       "    </tr>\n",
       "  </thead>\n",
       "  <tbody>\n",
       "    <tr>\n",
       "      <th>1946-001</th>\n",
       "      <td>1946.0</td>\n",
       "      <td>0.0</td>\n",
       "      <td>0.0</td>\n",
       "      <td>0.0</td>\n",
       "      <td>1.0</td>\n",
       "      <td>0.0</td>\n",
       "      <td>9.0</td>\n",
       "      <td>9.0</td>\n",
       "    </tr>\n",
       "    <tr>\n",
       "      <th>1946-002</th>\n",
       "      <td>1946.0</td>\n",
       "      <td>0.0</td>\n",
       "      <td>0.0</td>\n",
       "      <td>0.0</td>\n",
       "      <td>1.0</td>\n",
       "      <td>0.0</td>\n",
       "      <td>9.0</td>\n",
       "      <td>9.0</td>\n",
       "    </tr>\n",
       "    <tr>\n",
       "      <th>1946-003</th>\n",
       "      <td>1946.0</td>\n",
       "      <td>0.0</td>\n",
       "      <td>0.0</td>\n",
       "      <td>1.0</td>\n",
       "      <td>0.0</td>\n",
       "      <td>0.0</td>\n",
       "      <td>9.0</td>\n",
       "      <td>9.0</td>\n",
       "    </tr>\n",
       "    <tr>\n",
       "      <th>1946-004</th>\n",
       "      <td>1946.0</td>\n",
       "      <td>0.0</td>\n",
       "      <td>0.0</td>\n",
       "      <td>0.0</td>\n",
       "      <td>1.0</td>\n",
       "      <td>1.0</td>\n",
       "      <td>9.0</td>\n",
       "      <td>8.0</td>\n",
       "    </tr>\n",
       "    <tr>\n",
       "      <th>1946-005</th>\n",
       "      <td>1946.0</td>\n",
       "      <td>0.0</td>\n",
       "      <td>0.0</td>\n",
       "      <td>0.0</td>\n",
       "      <td>1.0</td>\n",
       "      <td>0.0</td>\n",
       "      <td>9.0</td>\n",
       "      <td>9.0</td>\n",
       "    </tr>\n",
       "  </tbody>\n",
       "</table>\n",
       "</div>"
      ],
      "text/plain": [
       "            year  even_split  unanimous  split_5_4  other_decision  \\\n",
       "caseId                                                               \n",
       "1946-001  1946.0         0.0        0.0        0.0             1.0   \n",
       "1946-002  1946.0         0.0        0.0        0.0             1.0   \n",
       "1946-003  1946.0         0.0        0.0        1.0             0.0   \n",
       "1946-004  1946.0         0.0        0.0        0.0             1.0   \n",
       "1946-005  1946.0         0.0        0.0        0.0             1.0   \n",
       "\n",
       "          num_recused_justices  num_justices_on_court  \\\n",
       "caseId                                                  \n",
       "1946-001                   0.0                    9.0   \n",
       "1946-002                   0.0                    9.0   \n",
       "1946-003                   0.0                    9.0   \n",
       "1946-004                   1.0                    9.0   \n",
       "1946-005                   0.0                    9.0   \n",
       "\n",
       "          num_justices_decided_case  \n",
       "caseId                               \n",
       "1946-001                        9.0  \n",
       "1946-002                        9.0  \n",
       "1946-003                        9.0  \n",
       "1946-004                        8.0  \n",
       "1946-005                        9.0  "
      ]
     },
     "execution_count": 26,
     "metadata": {},
     "output_type": "execute_result"
    }
   ],
   "source": [
    "#how many justices heard case\n",
    "all_cases['num_justices_decided_case'] = all_cases['num_justices_on_court'] - all_cases['num_recused_justices']\n",
    "all_cases.head()"
   ]
  },
  {
   "cell_type": "markdown",
   "metadata": {},
   "source": [
    "# Data for Charts"
   ]
  },
  {
   "cell_type": "markdown",
   "metadata": {},
   "source": [
    "**CHART ONE: Between 1946 and 2015, how many justices heard each case?**"
   ]
  },
  {
   "cell_type": "code",
   "execution_count": 27,
   "metadata": {
    "collapsed": false
   },
   "outputs": [
    {
     "data": {
      "text/html": [
       "<div>\n",
       "<table border=\"1\" class=\"dataframe\">\n",
       "  <thead>\n",
       "    <tr style=\"text-align: right;\">\n",
       "      <th></th>\n",
       "      <th>num_justices_decided_case_count</th>\n",
       "    </tr>\n",
       "    <tr>\n",
       "      <th>num_justices_decided_case</th>\n",
       "      <th></th>\n",
       "    </tr>\n",
       "  </thead>\n",
       "  <tbody>\n",
       "    <tr>\n",
       "      <th>5.0</th>\n",
       "      <td>1.0</td>\n",
       "    </tr>\n",
       "    <tr>\n",
       "      <th>6.0</th>\n",
       "      <td>30.0</td>\n",
       "    </tr>\n",
       "    <tr>\n",
       "      <th>7.0</th>\n",
       "      <td>326.0</td>\n",
       "    </tr>\n",
       "    <tr>\n",
       "      <th>8.0</th>\n",
       "      <td>1602.0</td>\n",
       "    </tr>\n",
       "    <tr>\n",
       "      <th>9.0</th>\n",
       "      <td>6775.0</td>\n",
       "    </tr>\n",
       "  </tbody>\n",
       "</table>\n",
       "</div>"
      ],
      "text/plain": [
       "                           num_justices_decided_case_count\n",
       "num_justices_decided_case                                 \n",
       "5.0                                                    1.0\n",
       "6.0                                                   30.0\n",
       "7.0                                                  326.0\n",
       "8.0                                                 1602.0\n",
       "9.0                                                 6775.0"
      ]
     },
     "execution_count": 27,
     "metadata": {},
     "output_type": "execute_result"
    }
   ],
   "source": [
    "num_justices_heard_cases = all_cases.groupby('num_justices_decided_case').agg({'num_justices_decided_case': np.size}).add_suffix('_count').reset_index()\n",
    "num_justices_heard_cases = num_justices_heard_cases.set_index('num_justices_decided_case')\n",
    "num_justices_heard_cases"
   ]
  },
  {
   "cell_type": "code",
   "execution_count": 28,
   "metadata": {
    "collapsed": true
   },
   "outputs": [],
   "source": [
    "num_justices_heard_cases.to_csv('data/chart_1_num_justices_decided_case.tsv', sep='\\t')"
   ]
  },
  {
   "cell_type": "markdown",
   "metadata": {},
   "source": [
    "**CHART TWO: Between 1946 and 2015, what percentage of cases were heard by eight justices, and why?**"
   ]
  },
  {
   "cell_type": "code",
   "execution_count": 29,
   "metadata": {
    "collapsed": false
   },
   "outputs": [
    {
     "data": {
      "text/html": [
       "<div>\n",
       "<table border=\"1\" class=\"dataframe\">\n",
       "  <thead>\n",
       "    <tr style=\"text-align: right;\">\n",
       "      <th></th>\n",
       "      <th>year</th>\n",
       "      <th>year_count</th>\n",
       "    </tr>\n",
       "  </thead>\n",
       "  <tbody>\n",
       "    <tr>\n",
       "      <th>0</th>\n",
       "      <td>1946</td>\n",
       "      <td>142</td>\n",
       "    </tr>\n",
       "    <tr>\n",
       "      <th>1</th>\n",
       "      <td>1947</td>\n",
       "      <td>118</td>\n",
       "    </tr>\n",
       "    <tr>\n",
       "      <th>2</th>\n",
       "      <td>1948</td>\n",
       "      <td>127</td>\n",
       "    </tr>\n",
       "    <tr>\n",
       "      <th>3</th>\n",
       "      <td>1949</td>\n",
       "      <td>99</td>\n",
       "    </tr>\n",
       "    <tr>\n",
       "      <th>4</th>\n",
       "      <td>1950</td>\n",
       "      <td>103</td>\n",
       "    </tr>\n",
       "  </tbody>\n",
       "</table>\n",
       "</div>"
      ],
      "text/plain": [
       "   year  year_count\n",
       "0  1946         142\n",
       "1  1947         118\n",
       "2  1948         127\n",
       "3  1949          99\n",
       "4  1950         103"
      ]
     },
     "execution_count": 29,
     "metadata": {},
     "output_type": "execute_result"
    }
   ],
   "source": [
    "#number of cases each year to use as denominator for percentage\n",
    "cases_per_year = all_cases.groupby(['year']).agg({'year': np.size}).add_suffix('_count').reset_index()\n",
    "cases_per_year.year = cases_per_year.year.astype(int)\n",
    "cases_per_year.year_count = cases_per_year.year_count.astype(int)\n",
    "cases_per_year.head()"
   ]
  },
  {
   "cell_type": "code",
   "execution_count": 30,
   "metadata": {
    "collapsed": false
   },
   "outputs": [
    {
     "data": {
      "text/html": [
       "<div>\n",
       "<table border=\"1\" class=\"dataframe\">\n",
       "  <thead>\n",
       "    <tr style=\"text-align: right;\">\n",
       "      <th></th>\n",
       "      <th>year</th>\n",
       "      <th>cases_with_vacancy</th>\n",
       "    </tr>\n",
       "  </thead>\n",
       "  <tbody>\n",
       "    <tr>\n",
       "      <th>0</th>\n",
       "      <td>1951.0</td>\n",
       "      <td>1.0</td>\n",
       "    </tr>\n",
       "    <tr>\n",
       "      <th>1</th>\n",
       "      <td>1954.0</td>\n",
       "      <td>50.0</td>\n",
       "    </tr>\n",
       "    <tr>\n",
       "      <th>2</th>\n",
       "      <td>1956.0</td>\n",
       "      <td>8.0</td>\n",
       "    </tr>\n",
       "    <tr>\n",
       "      <th>3</th>\n",
       "      <td>1961.0</td>\n",
       "      <td>4.0</td>\n",
       "    </tr>\n",
       "    <tr>\n",
       "      <th>4</th>\n",
       "      <td>1964.0</td>\n",
       "      <td>1.0</td>\n",
       "    </tr>\n",
       "  </tbody>\n",
       "</table>\n",
       "</div>"
      ],
      "text/plain": [
       "     year  cases_with_vacancy\n",
       "0  1951.0                 1.0\n",
       "1  1954.0                50.0\n",
       "2  1956.0                 8.0\n",
       "3  1961.0                 4.0\n",
       "4  1964.0                 1.0"
      ]
     },
     "execution_count": 30,
     "metadata": {},
     "output_type": "execute_result"
    }
   ],
   "source": [
    "eight_justices_vacancy = all_cases[(all_cases['num_justices_decided_case'] == 8) & (all_cases['num_recused_justices'] == 0)]\n",
    "eight_vacancy_by_year = eight_justices_vacancy.groupby(['year']).agg({'year': np.size}).add_suffix('_count').reset_index()\n",
    "eight_vacancy_by_year.columns = ['year', 'cases_with_vacancy']\n",
    "eight_vacancy_by_year.head()"
   ]
  },
  {
   "cell_type": "code",
   "execution_count": 31,
   "metadata": {
    "collapsed": false
   },
   "outputs": [
    {
     "data": {
      "text/html": [
       "<div>\n",
       "<table border=\"1\" class=\"dataframe\">\n",
       "  <thead>\n",
       "    <tr style=\"text-align: right;\">\n",
       "      <th></th>\n",
       "      <th>year</th>\n",
       "      <th>cases_with_recusal</th>\n",
       "    </tr>\n",
       "  </thead>\n",
       "  <tbody>\n",
       "    <tr>\n",
       "      <th>0</th>\n",
       "      <td>1946.0</td>\n",
       "      <td>13.0</td>\n",
       "    </tr>\n",
       "    <tr>\n",
       "      <th>1</th>\n",
       "      <td>1947.0</td>\n",
       "      <td>11.0</td>\n",
       "    </tr>\n",
       "    <tr>\n",
       "      <th>2</th>\n",
       "      <td>1948.0</td>\n",
       "      <td>10.0</td>\n",
       "    </tr>\n",
       "    <tr>\n",
       "      <th>3</th>\n",
       "      <td>1949.0</td>\n",
       "      <td>61.0</td>\n",
       "    </tr>\n",
       "    <tr>\n",
       "      <th>4</th>\n",
       "      <td>1950.0</td>\n",
       "      <td>26.0</td>\n",
       "    </tr>\n",
       "  </tbody>\n",
       "</table>\n",
       "</div>"
      ],
      "text/plain": [
       "     year  cases_with_recusal\n",
       "0  1946.0                13.0\n",
       "1  1947.0                11.0\n",
       "2  1948.0                10.0\n",
       "3  1949.0                61.0\n",
       "4  1950.0                26.0"
      ]
     },
     "execution_count": 31,
     "metadata": {},
     "output_type": "execute_result"
    }
   ],
   "source": [
    "eight_justices_recusal = all_cases[(all_cases['num_justices_decided_case'] == 8) & (all_cases['num_recused_justices'] == 1)]\n",
    "eight_recusal_by_year = eight_justices_recusal.groupby(['year']).agg({'year': np.size}).add_suffix('_count').reset_index()\n",
    "eight_recusal_by_year.columns = ['year', 'cases_with_recusal']\n",
    "eight_recusal_by_year.head()"
   ]
  },
  {
   "cell_type": "code",
   "execution_count": 32,
   "metadata": {
    "collapsed": false
   },
   "outputs": [
    {
     "data": {
      "text/html": [
       "<div>\n",
       "<table border=\"1\" class=\"dataframe\">\n",
       "  <thead>\n",
       "    <tr style=\"text-align: right;\">\n",
       "      <th></th>\n",
       "      <th>year</th>\n",
       "      <th>year_count</th>\n",
       "      <th>cases_with_vacancy</th>\n",
       "      <th>cases_with_recusal</th>\n",
       "    </tr>\n",
       "  </thead>\n",
       "  <tbody>\n",
       "    <tr>\n",
       "      <th>0</th>\n",
       "      <td>1946</td>\n",
       "      <td>142</td>\n",
       "      <td>0.0</td>\n",
       "      <td>13.0</td>\n",
       "    </tr>\n",
       "    <tr>\n",
       "      <th>1</th>\n",
       "      <td>1947</td>\n",
       "      <td>118</td>\n",
       "      <td>0.0</td>\n",
       "      <td>11.0</td>\n",
       "    </tr>\n",
       "    <tr>\n",
       "      <th>2</th>\n",
       "      <td>1948</td>\n",
       "      <td>127</td>\n",
       "      <td>0.0</td>\n",
       "      <td>10.0</td>\n",
       "    </tr>\n",
       "    <tr>\n",
       "      <th>3</th>\n",
       "      <td>1949</td>\n",
       "      <td>99</td>\n",
       "      <td>0.0</td>\n",
       "      <td>61.0</td>\n",
       "    </tr>\n",
       "    <tr>\n",
       "      <th>4</th>\n",
       "      <td>1950</td>\n",
       "      <td>103</td>\n",
       "      <td>0.0</td>\n",
       "      <td>26.0</td>\n",
       "    </tr>\n",
       "  </tbody>\n",
       "</table>\n",
       "</div>"
      ],
      "text/plain": [
       "   year  year_count  cases_with_vacancy  cases_with_recusal\n",
       "0  1946         142                 0.0                13.0\n",
       "1  1947         118                 0.0                11.0\n",
       "2  1948         127                 0.0                10.0\n",
       "3  1949          99                 0.0                61.0\n",
       "4  1950         103                 0.0                26.0"
      ]
     },
     "execution_count": 32,
     "metadata": {},
     "output_type": "execute_result"
    }
   ],
   "source": [
    "#joining three above tables together\n",
    "years_vacancies = pd.merge(cases_per_year, eight_vacancy_by_year, on='year', how='left')\n",
    "years_vacancies_recusals = pd.merge(years_vacancies, eight_recusal_by_year, on='year', how='left')\n",
    "years_vacancies_recusals = years_vacancies_recusals.fillna(value=0)\n",
    "years_vacancies_recusals.head()"
   ]
  },
  {
   "cell_type": "code",
   "execution_count": 33,
   "metadata": {
    "collapsed": false
   },
   "outputs": [
    {
     "data": {
      "text/html": [
       "<div>\n",
       "<table border=\"1\" class=\"dataframe\">\n",
       "  <thead>\n",
       "    <tr style=\"text-align: right;\">\n",
       "      <th></th>\n",
       "      <th>year</th>\n",
       "      <th>year_count</th>\n",
       "      <th>cases_with_vacancy</th>\n",
       "      <th>cases_with_recusal</th>\n",
       "      <th>vacancy_perc</th>\n",
       "      <th>recusal_perc</th>\n",
       "    </tr>\n",
       "  </thead>\n",
       "  <tbody>\n",
       "    <tr>\n",
       "      <th>0</th>\n",
       "      <td>1946</td>\n",
       "      <td>142</td>\n",
       "      <td>0.0</td>\n",
       "      <td>13.0</td>\n",
       "      <td>0.0</td>\n",
       "      <td>0.091549</td>\n",
       "    </tr>\n",
       "    <tr>\n",
       "      <th>1</th>\n",
       "      <td>1947</td>\n",
       "      <td>118</td>\n",
       "      <td>0.0</td>\n",
       "      <td>11.0</td>\n",
       "      <td>0.0</td>\n",
       "      <td>0.093220</td>\n",
       "    </tr>\n",
       "    <tr>\n",
       "      <th>2</th>\n",
       "      <td>1948</td>\n",
       "      <td>127</td>\n",
       "      <td>0.0</td>\n",
       "      <td>10.0</td>\n",
       "      <td>0.0</td>\n",
       "      <td>0.078740</td>\n",
       "    </tr>\n",
       "    <tr>\n",
       "      <th>3</th>\n",
       "      <td>1949</td>\n",
       "      <td>99</td>\n",
       "      <td>0.0</td>\n",
       "      <td>61.0</td>\n",
       "      <td>0.0</td>\n",
       "      <td>0.616162</td>\n",
       "    </tr>\n",
       "    <tr>\n",
       "      <th>4</th>\n",
       "      <td>1950</td>\n",
       "      <td>103</td>\n",
       "      <td>0.0</td>\n",
       "      <td>26.0</td>\n",
       "      <td>0.0</td>\n",
       "      <td>0.252427</td>\n",
       "    </tr>\n",
       "  </tbody>\n",
       "</table>\n",
       "</div>"
      ],
      "text/plain": [
       "   year  year_count  cases_with_vacancy  cases_with_recusal  vacancy_perc  \\\n",
       "0  1946         142                 0.0                13.0           0.0   \n",
       "1  1947         118                 0.0                11.0           0.0   \n",
       "2  1948         127                 0.0                10.0           0.0   \n",
       "3  1949          99                 0.0                61.0           0.0   \n",
       "4  1950         103                 0.0                26.0           0.0   \n",
       "\n",
       "   recusal_perc  \n",
       "0      0.091549  \n",
       "1      0.093220  \n",
       "2      0.078740  \n",
       "3      0.616162  \n",
       "4      0.252427  "
      ]
     },
     "execution_count": 33,
     "metadata": {},
     "output_type": "execute_result"
    }
   ],
   "source": [
    "years_vacancies_recusals['vacancy_perc'] = years_vacancies_recusals['cases_with_vacancy'] / years_vacancies_recusals['year_count']\n",
    "years_vacancies_recusals['recusal_perc'] = years_vacancies_recusals['cases_with_recusal'] / years_vacancies_recusals['year_count']\n",
    "years_vacancies_recusals.head()"
   ]
  },
  {
   "cell_type": "code",
   "execution_count": 34,
   "metadata": {
    "collapsed": false
   },
   "outputs": [
    {
     "name": "stderr",
     "output_type": "stream",
     "text": [
      "/anaconda/lib/python2.7/site-packages/ipykernel/__main__.py:2: SettingWithCopyWarning: \n",
      "A value is trying to be set on a copy of a slice from a DataFrame.\n",
      "Try using .loc[row_indexer,col_indexer] = value instead\n",
      "\n",
      "See the caveats in the documentation: http://pandas.pydata.org/pandas-docs/stable/indexing.html#indexing-view-versus-copy\n",
      "  from ipykernel import kernelapp as app\n",
      "/anaconda/lib/python2.7/site-packages/ipykernel/__main__.py:3: SettingWithCopyWarning: \n",
      "A value is trying to be set on a copy of a slice from a DataFrame.\n",
      "Try using .loc[row_indexer,col_indexer] = value instead\n",
      "\n",
      "See the caveats in the documentation: http://pandas.pydata.org/pandas-docs/stable/indexing.html#indexing-view-versus-copy\n",
      "  app.launch_new_instance()\n"
     ]
    }
   ],
   "source": [
    "years_percentages = years_vacancies_recusals[['year', 'vacancy_perc', 'recusal_perc']]\n",
    "years_percentages['Justice vacancy'] = years_percentages['vacancy_perc'] * 100\n",
    "years_percentages['Recusal'] = years_percentages['recusal_perc'] * 100\n"
   ]
  },
  {
   "cell_type": "code",
   "execution_count": 35,
   "metadata": {
    "collapsed": false
   },
   "outputs": [
    {
     "data": {
      "text/html": [
       "<div>\n",
       "<table border=\"1\" class=\"dataframe\">\n",
       "  <thead>\n",
       "    <tr style=\"text-align: right;\">\n",
       "      <th></th>\n",
       "      <th>Justice vacancy</th>\n",
       "      <th>Recusal</th>\n",
       "    </tr>\n",
       "    <tr>\n",
       "      <th>year</th>\n",
       "      <th></th>\n",
       "      <th></th>\n",
       "    </tr>\n",
       "  </thead>\n",
       "  <tbody>\n",
       "    <tr>\n",
       "      <th>1946</th>\n",
       "      <td>0.0</td>\n",
       "      <td>9.154930</td>\n",
       "    </tr>\n",
       "    <tr>\n",
       "      <th>1947</th>\n",
       "      <td>0.0</td>\n",
       "      <td>9.322034</td>\n",
       "    </tr>\n",
       "    <tr>\n",
       "      <th>1948</th>\n",
       "      <td>0.0</td>\n",
       "      <td>7.874016</td>\n",
       "    </tr>\n",
       "    <tr>\n",
       "      <th>1949</th>\n",
       "      <td>0.0</td>\n",
       "      <td>61.616162</td>\n",
       "    </tr>\n",
       "    <tr>\n",
       "      <th>1950</th>\n",
       "      <td>0.0</td>\n",
       "      <td>25.242718</td>\n",
       "    </tr>\n",
       "  </tbody>\n",
       "</table>\n",
       "</div>"
      ],
      "text/plain": [
       "      Justice vacancy    Recusal\n",
       "year                            \n",
       "1946              0.0   9.154930\n",
       "1947              0.0   9.322034\n",
       "1948              0.0   7.874016\n",
       "1949              0.0  61.616162\n",
       "1950              0.0  25.242718"
      ]
     },
     "execution_count": 35,
     "metadata": {},
     "output_type": "execute_result"
    }
   ],
   "source": [
    "years_percentages_100 = years_percentages[['year', 'Justice vacancy', 'Recusal']]\n",
    "years_percentages_100.set_index('year', inplace = True)\n",
    "\n",
    "years_percentages_100.head()"
   ]
  },
  {
   "cell_type": "code",
   "execution_count": 36,
   "metadata": {
    "collapsed": true
   },
   "outputs": [],
   "source": [
    "years_percentages_100.to_csv('data/chart_2_eight_justices_by_year.csv')"
   ]
  },
  {
   "cell_type": "markdown",
   "metadata": {},
   "source": [
    "**CHART THREE: Types of decisions in cases heard by eight justices between 1946 and 2014**"
   ]
  },
  {
   "cell_type": "code",
   "execution_count": 37,
   "metadata": {
    "collapsed": false
   },
   "outputs": [
    {
     "data": {
      "text/html": [
       "<div>\n",
       "<table border=\"1\" class=\"dataframe\">\n",
       "  <thead>\n",
       "    <tr style=\"text-align: right;\">\n",
       "      <th></th>\n",
       "      <th>year</th>\n",
       "      <th>even_split</th>\n",
       "      <th>unanimous</th>\n",
       "      <th>split_5_4</th>\n",
       "      <th>other_decision</th>\n",
       "      <th>num_recused_justices</th>\n",
       "      <th>num_justices_on_court</th>\n",
       "      <th>num_justices_decided_case</th>\n",
       "    </tr>\n",
       "    <tr>\n",
       "      <th>caseId</th>\n",
       "      <th></th>\n",
       "      <th></th>\n",
       "      <th></th>\n",
       "      <th></th>\n",
       "      <th></th>\n",
       "      <th></th>\n",
       "      <th></th>\n",
       "      <th></th>\n",
       "    </tr>\n",
       "  </thead>\n",
       "  <tbody>\n",
       "    <tr>\n",
       "      <th>1946-004</th>\n",
       "      <td>1946.0</td>\n",
       "      <td>0.0</td>\n",
       "      <td>0.0</td>\n",
       "      <td>0.0</td>\n",
       "      <td>1.0</td>\n",
       "      <td>1.0</td>\n",
       "      <td>9.0</td>\n",
       "      <td>8.0</td>\n",
       "    </tr>\n",
       "    <tr>\n",
       "      <th>1946-006</th>\n",
       "      <td>1946.0</td>\n",
       "      <td>0.0</td>\n",
       "      <td>0.0</td>\n",
       "      <td>0.0</td>\n",
       "      <td>1.0</td>\n",
       "      <td>1.0</td>\n",
       "      <td>9.0</td>\n",
       "      <td>8.0</td>\n",
       "    </tr>\n",
       "    <tr>\n",
       "      <th>1946-010</th>\n",
       "      <td>1946.0</td>\n",
       "      <td>0.0</td>\n",
       "      <td>1.0</td>\n",
       "      <td>0.0</td>\n",
       "      <td>0.0</td>\n",
       "      <td>1.0</td>\n",
       "      <td>9.0</td>\n",
       "      <td>8.0</td>\n",
       "    </tr>\n",
       "    <tr>\n",
       "      <th>1946-015</th>\n",
       "      <td>1946.0</td>\n",
       "      <td>0.0</td>\n",
       "      <td>1.0</td>\n",
       "      <td>0.0</td>\n",
       "      <td>0.0</td>\n",
       "      <td>1.0</td>\n",
       "      <td>9.0</td>\n",
       "      <td>8.0</td>\n",
       "    </tr>\n",
       "    <tr>\n",
       "      <th>1946-062</th>\n",
       "      <td>1946.0</td>\n",
       "      <td>0.0</td>\n",
       "      <td>0.0</td>\n",
       "      <td>0.0</td>\n",
       "      <td>1.0</td>\n",
       "      <td>1.0</td>\n",
       "      <td>9.0</td>\n",
       "      <td>8.0</td>\n",
       "    </tr>\n",
       "  </tbody>\n",
       "</table>\n",
       "</div>"
      ],
      "text/plain": [
       "            year  even_split  unanimous  split_5_4  other_decision  \\\n",
       "caseId                                                               \n",
       "1946-004  1946.0         0.0        0.0        0.0             1.0   \n",
       "1946-006  1946.0         0.0        0.0        0.0             1.0   \n",
       "1946-010  1946.0         0.0        1.0        0.0             0.0   \n",
       "1946-015  1946.0         0.0        1.0        0.0             0.0   \n",
       "1946-062  1946.0         0.0        0.0        0.0             1.0   \n",
       "\n",
       "          num_recused_justices  num_justices_on_court  \\\n",
       "caseId                                                  \n",
       "1946-004                   1.0                    9.0   \n",
       "1946-006                   1.0                    9.0   \n",
       "1946-010                   1.0                    9.0   \n",
       "1946-015                   1.0                    9.0   \n",
       "1946-062                   1.0                    9.0   \n",
       "\n",
       "          num_justices_decided_case  \n",
       "caseId                               \n",
       "1946-004                        8.0  \n",
       "1946-006                        8.0  \n",
       "1946-010                        8.0  \n",
       "1946-015                        8.0  \n",
       "1946-062                        8.0  "
      ]
     },
     "execution_count": 37,
     "metadata": {},
     "output_type": "execute_result"
    }
   ],
   "source": [
    "#Cases heard by eight justices excluding 2015\n",
    "eight_justices = all_cases[(all_cases['num_justices_decided_case'] == 8) & (all_cases['year'] != 2015)]\n",
    "eight_justices.head()"
   ]
  },
  {
   "cell_type": "code",
   "execution_count": 38,
   "metadata": {
    "collapsed": true
   },
   "outputs": [],
   "source": [
    "eight_justices_filtered = eight_justices[['even_split', 'unanimous', 'split_5_4', 'other_decision']]"
   ]
  },
  {
   "cell_type": "code",
   "execution_count": 39,
   "metadata": {
    "collapsed": false
   },
   "outputs": [
    {
     "data": {
      "text/plain": [
       "even_split        110.0\n",
       "unanimous         639.0\n",
       "split_5_4           0.0\n",
       "other_decision    798.0\n",
       "dtype: float64"
      ]
     },
     "execution_count": 39,
     "metadata": {},
     "output_type": "execute_result"
    }
   ],
   "source": [
    "eight_justices_type_count = eight_justices_filtered.sum()\n",
    "eight_justices_type_count"
   ]
  },
  {
   "cell_type": "code",
   "execution_count": 40,
   "metadata": {
    "collapsed": false
   },
   "outputs": [
    {
     "data": {
      "text/html": [
       "<div>\n",
       "<table border=\"1\" class=\"dataframe\">\n",
       "  <thead>\n",
       "    <tr style=\"text-align: right;\">\n",
       "      <th></th>\n",
       "      <th>count</th>\n",
       "    </tr>\n",
       "    <tr>\n",
       "      <th>type</th>\n",
       "      <th></th>\n",
       "    </tr>\n",
       "  </thead>\n",
       "  <tbody>\n",
       "    <tr>\n",
       "      <th>even_split</th>\n",
       "      <td>110.0</td>\n",
       "    </tr>\n",
       "    <tr>\n",
       "      <th>unanimous</th>\n",
       "      <td>639.0</td>\n",
       "    </tr>\n",
       "    <tr>\n",
       "      <th>split_5_4</th>\n",
       "      <td>0.0</td>\n",
       "    </tr>\n",
       "    <tr>\n",
       "      <th>other_decision</th>\n",
       "      <td>798.0</td>\n",
       "    </tr>\n",
       "  </tbody>\n",
       "</table>\n",
       "</div>"
      ],
      "text/plain": [
       "                count\n",
       "type                 \n",
       "even_split      110.0\n",
       "unanimous       639.0\n",
       "split_5_4         0.0\n",
       "other_decision  798.0"
      ]
     },
     "execution_count": 40,
     "metadata": {},
     "output_type": "execute_result"
    }
   ],
   "source": [
    "#creating dataframe and getting in place to export to csv\n",
    "eight_justices_type_count_pd = pd.DataFrame(eight_justices_type_count, columns=['count'])\n",
    "eight_justices_type_count_pd.reset_index(inplace = True)\n",
    "eight_justices_type_count_pd.columns = ['type','count']\n",
    "eight_justices_type_count_pd.set_index('type', inplace = True)\n",
    "eight_justices_type_count_pd"
   ]
  },
  {
   "cell_type": "code",
   "execution_count": 41,
   "metadata": {
    "collapsed": true
   },
   "outputs": [],
   "source": [
    "eight_justices_type_count_pd.to_csv('data/chart_3_eight_justices_type_count.tsv', sep='\\t')"
   ]
  },
  {
   "cell_type": "markdown",
   "metadata": {},
   "source": [
    "**CHART FOUR: Types of decisions in cases heard by eight justices in 2015**"
   ]
  },
  {
   "cell_type": "code",
   "execution_count": 42,
   "metadata": {
    "collapsed": false
   },
   "outputs": [
    {
     "data": {
      "text/html": [
       "<div>\n",
       "<table border=\"1\" class=\"dataframe\">\n",
       "  <thead>\n",
       "    <tr style=\"text-align: right;\">\n",
       "      <th></th>\n",
       "      <th>year</th>\n",
       "      <th>even_split</th>\n",
       "      <th>unanimous</th>\n",
       "      <th>split_5_4</th>\n",
       "      <th>other_decision</th>\n",
       "      <th>num_recused_justices</th>\n",
       "      <th>num_justices_on_court</th>\n",
       "      <th>num_justices_decided_case</th>\n",
       "    </tr>\n",
       "    <tr>\n",
       "      <th>caseId</th>\n",
       "      <th></th>\n",
       "      <th></th>\n",
       "      <th></th>\n",
       "      <th></th>\n",
       "      <th></th>\n",
       "      <th></th>\n",
       "      <th></th>\n",
       "      <th></th>\n",
       "    </tr>\n",
       "  </thead>\n",
       "  <tbody>\n",
       "    <tr>\n",
       "      <th>62164</th>\n",
       "      <td>2015.0</td>\n",
       "      <td>0.0</td>\n",
       "      <td>0.0</td>\n",
       "      <td>0.0</td>\n",
       "      <td>1.0</td>\n",
       "      <td>0.0</td>\n",
       "      <td>8.0</td>\n",
       "      <td>8.0</td>\n",
       "    </tr>\n",
       "    <tr>\n",
       "      <th>62165</th>\n",
       "      <td>2015.0</td>\n",
       "      <td>0.0</td>\n",
       "      <td>0.0</td>\n",
       "      <td>0.0</td>\n",
       "      <td>1.0</td>\n",
       "      <td>0.0</td>\n",
       "      <td>8.0</td>\n",
       "      <td>8.0</td>\n",
       "    </tr>\n",
       "    <tr>\n",
       "      <th>62168</th>\n",
       "      <td>2015.0</td>\n",
       "      <td>0.0</td>\n",
       "      <td>1.0</td>\n",
       "      <td>0.0</td>\n",
       "      <td>0.0</td>\n",
       "      <td>0.0</td>\n",
       "      <td>8.0</td>\n",
       "      <td>8.0</td>\n",
       "    </tr>\n",
       "    <tr>\n",
       "      <th>62301</th>\n",
       "      <td>2015.0</td>\n",
       "      <td>0.0</td>\n",
       "      <td>0.0</td>\n",
       "      <td>0.0</td>\n",
       "      <td>1.0</td>\n",
       "      <td>0.0</td>\n",
       "      <td>8.0</td>\n",
       "      <td>8.0</td>\n",
       "    </tr>\n",
       "    <tr>\n",
       "      <th>62306</th>\n",
       "      <td>2015.0</td>\n",
       "      <td>1.0</td>\n",
       "      <td>0.0</td>\n",
       "      <td>0.0</td>\n",
       "      <td>0.0</td>\n",
       "      <td>0.0</td>\n",
       "      <td>8.0</td>\n",
       "      <td>8.0</td>\n",
       "    </tr>\n",
       "  </tbody>\n",
       "</table>\n",
       "</div>"
      ],
      "text/plain": [
       "          year  even_split  unanimous  split_5_4  other_decision  \\\n",
       "caseId                                                             \n",
       "62164   2015.0         0.0        0.0        0.0             1.0   \n",
       "62165   2015.0         0.0        0.0        0.0             1.0   \n",
       "62168   2015.0         0.0        1.0        0.0             0.0   \n",
       "62301   2015.0         0.0        0.0        0.0             1.0   \n",
       "62306   2015.0         1.0        0.0        0.0             0.0   \n",
       "\n",
       "        num_recused_justices  num_justices_on_court  num_justices_decided_case  \n",
       "caseId                                                                          \n",
       "62164                    0.0                    8.0                        8.0  \n",
       "62165                    0.0                    8.0                        8.0  \n",
       "62168                    0.0                    8.0                        8.0  \n",
       "62301                    0.0                    8.0                        8.0  \n",
       "62306                    0.0                    8.0                        8.0  "
      ]
     },
     "execution_count": 42,
     "metadata": {},
     "output_type": "execute_result"
    }
   ],
   "source": [
    "#Cases heard by eight justices in 2015\n",
    "eight_justices_2015 = all_cases[(all_cases['num_justices_decided_case'] == 8) & (all_cases['year'] == 2015)]\n",
    "eight_justices_2015.head()"
   ]
  },
  {
   "cell_type": "code",
   "execution_count": 43,
   "metadata": {
    "collapsed": true
   },
   "outputs": [],
   "source": [
    "eight_justices_2015_filtered = eight_justices_2015[['even_split', 'unanimous', 'split_5_4', 'other_decision']]"
   ]
  },
  {
   "cell_type": "code",
   "execution_count": 44,
   "metadata": {
    "collapsed": true
   },
   "outputs": [],
   "source": [
    "eight_justices_2015_type_count = eight_justices_2015_filtered.sum()"
   ]
  },
  {
   "cell_type": "code",
   "execution_count": 45,
   "metadata": {
    "collapsed": false
   },
   "outputs": [
    {
     "data": {
      "text/html": [
       "<div>\n",
       "<table border=\"1\" class=\"dataframe\">\n",
       "  <thead>\n",
       "    <tr style=\"text-align: right;\">\n",
       "      <th></th>\n",
       "      <th>count</th>\n",
       "    </tr>\n",
       "    <tr>\n",
       "      <th>type</th>\n",
       "      <th></th>\n",
       "    </tr>\n",
       "  </thead>\n",
       "  <tbody>\n",
       "    <tr>\n",
       "      <th>even_split</th>\n",
       "      <td>4.0</td>\n",
       "    </tr>\n",
       "    <tr>\n",
       "      <th>unanimous</th>\n",
       "      <td>27.0</td>\n",
       "    </tr>\n",
       "    <tr>\n",
       "      <th>split_5_4</th>\n",
       "      <td>0.0</td>\n",
       "    </tr>\n",
       "    <tr>\n",
       "      <th>other_decision</th>\n",
       "      <td>24.0</td>\n",
       "    </tr>\n",
       "  </tbody>\n",
       "</table>\n",
       "</div>"
      ],
      "text/plain": [
       "                count\n",
       "type                 \n",
       "even_split        4.0\n",
       "unanimous        27.0\n",
       "split_5_4         0.0\n",
       "other_decision   24.0"
      ]
     },
     "execution_count": 45,
     "metadata": {},
     "output_type": "execute_result"
    }
   ],
   "source": [
    "#creating dataframe and getting in place to export to csv\n",
    "eight_justices_2015_type_count_pd = pd.DataFrame(eight_justices_2015_type_count, columns=['count'])\n",
    "eight_justices_2015_type_count_pd.reset_index(inplace = True)\n",
    "eight_justices_2015_type_count_pd.columns = ['type','count']\n",
    "eight_justices_2015_type_count_pd.set_index('type', inplace = True)\n",
    "eight_justices_2015_type_count_pd"
   ]
  },
  {
   "cell_type": "code",
   "execution_count": 46,
   "metadata": {
    "collapsed": true
   },
   "outputs": [],
   "source": [
    "eight_justices_2015_type_count_pd.to_csv('data/chart_4_eight_justices_2015_type_count.tsv', sep='\\t')"
   ]
  },
  {
   "cell_type": "markdown",
   "metadata": {},
   "source": [
    "**CHART FIVE: Types of decisions in all cases**"
   ]
  },
  {
   "cell_type": "code",
   "execution_count": 47,
   "metadata": {
    "collapsed": true
   },
   "outputs": [],
   "source": [
    "all_cases_filtered = all_cases[['even_split', 'unanimous', 'split_5_4', 'other_decision']]\n",
    "all_cases_type_count = all_cases_filtered.sum()\n"
   ]
  },
  {
   "cell_type": "code",
   "execution_count": 48,
   "metadata": {
    "collapsed": false
   },
   "outputs": [
    {
     "data": {
      "text/html": [
       "<div>\n",
       "<table border=\"1\" class=\"dataframe\">\n",
       "  <thead>\n",
       "    <tr style=\"text-align: right;\">\n",
       "      <th></th>\n",
       "      <th>count</th>\n",
       "    </tr>\n",
       "    <tr>\n",
       "      <th>type</th>\n",
       "      <th></th>\n",
       "    </tr>\n",
       "  </thead>\n",
       "  <tbody>\n",
       "    <tr>\n",
       "      <th>even_split</th>\n",
       "      <td>117.0</td>\n",
       "    </tr>\n",
       "    <tr>\n",
       "      <th>unanimous</th>\n",
       "      <td>3453.0</td>\n",
       "    </tr>\n",
       "    <tr>\n",
       "      <th>split_5_4</th>\n",
       "      <td>1295.0</td>\n",
       "    </tr>\n",
       "    <tr>\n",
       "      <th>other_decision</th>\n",
       "      <td>3869.0</td>\n",
       "    </tr>\n",
       "  </tbody>\n",
       "</table>\n",
       "</div>"
      ],
      "text/plain": [
       "                 count\n",
       "type                  \n",
       "even_split       117.0\n",
       "unanimous       3453.0\n",
       "split_5_4       1295.0\n",
       "other_decision  3869.0"
      ]
     },
     "execution_count": 48,
     "metadata": {},
     "output_type": "execute_result"
    }
   ],
   "source": [
    "#creating dataframe and getting in place to export to csv\n",
    "\n",
    "\n",
    "all_cases_type_count_pd = pd.DataFrame(all_cases_type_count, columns=['count'])\n",
    "all_cases_type_count_pd.reset_index(inplace = True)\n",
    "all_cases_type_count_pd.columns = ['type', 'count']\n",
    "all_cases_type_count_pd.set_index('type', inplace=True)\n",
    "all_cases_type_count_pd\n"
   ]
  },
  {
   "cell_type": "code",
   "execution_count": 49,
   "metadata": {
    "collapsed": false
   },
   "outputs": [],
   "source": [
    "all_cases_type_count_pd.to_csv('data/chart_5_all_cases_type_count.tsv', sep='\\t')"
   ]
  },
  {
   "cell_type": "markdown",
   "metadata": {
    "collapsed": true
   },
   "source": [
    "**For stat in article, of eight person cases, what is the reason?"
   ]
  },
  {
   "cell_type": "code",
   "execution_count": 50,
   "metadata": {
    "collapsed": false
   },
   "outputs": [
    {
     "data": {
      "text/html": [
       "<div>\n",
       "<table border=\"1\" class=\"dataframe\">\n",
       "  <thead>\n",
       "    <tr style=\"text-align: right;\">\n",
       "      <th></th>\n",
       "      <th>num_recused_justices</th>\n",
       "    </tr>\n",
       "    <tr>\n",
       "      <th>num_recused_justices</th>\n",
       "      <th></th>\n",
       "    </tr>\n",
       "  </thead>\n",
       "  <tbody>\n",
       "    <tr>\n",
       "      <th>0.0</th>\n",
       "      <td>242.0</td>\n",
       "    </tr>\n",
       "    <tr>\n",
       "      <th>1.0</th>\n",
       "      <td>1305.0</td>\n",
       "    </tr>\n",
       "  </tbody>\n",
       "</table>\n",
       "</div>"
      ],
      "text/plain": [
       "                      num_recused_justices\n",
       "num_recused_justices                      \n",
       "0.0                                  242.0\n",
       "1.0                                 1305.0"
      ]
     },
     "execution_count": 50,
     "metadata": {},
     "output_type": "execute_result"
    }
   ],
   "source": [
    "eight_justices.groupby('num_recused_justices').agg({'num_recused_justices': np.size})"
   ]
  },
  {
   "cell_type": "code",
   "execution_count": 51,
   "metadata": {
    "collapsed": false
   },
   "outputs": [
    {
     "data": {
      "text/plain": [
       "0.843568196509373"
      ]
     },
     "execution_count": 51,
     "metadata": {},
     "output_type": "execute_result"
    }
   ],
   "source": [
    "1305.0 / (242 + 1305)"
   ]
  },
  {
   "cell_type": "code",
   "execution_count": null,
   "metadata": {
    "collapsed": true
   },
   "outputs": [],
   "source": []
  }
 ],
 "metadata": {
  "kernelspec": {
   "display_name": "Python 2",
   "language": "python",
   "name": "python2"
  },
  "language_info": {
   "codemirror_mode": {
    "name": "ipython",
    "version": 2
   },
   "file_extension": ".py",
   "mimetype": "text/x-python",
   "name": "python",
   "nbconvert_exporter": "python",
   "pygments_lexer": "ipython2",
   "version": "2.7.11"
  }
 },
 "nbformat": 4,
 "nbformat_minor": 0
}
